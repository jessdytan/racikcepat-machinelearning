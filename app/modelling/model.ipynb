{
 "cells": [
  {
   "cell_type": "code",
   "execution_count": 5,
   "id": "f6308d34",
   "metadata": {},
   "outputs": [],
   "source": [
    "from sklearn.preprocessing import LabelEncoder\n",
    "from tensorflow.keras.preprocessing.text import Tokenizer\n",
    "from tensorflow.keras.preprocessing.sequence import pad_sequences\n",
    "\n",
    "import pandas as pd\n",
    "# Membaca dataset\n",
    "df = pd.read_csv('../preprocessing/clean_bahan.csv')\n",
    "\n",
    "df['clean_bahan'] = df['clean_bahan'].astype(str)\n",
    "\n",
    "# Tokenizer untuk bahan\n",
    "tokenizer = Tokenizer()\n",
    "tokenizer.fit_on_texts(df['clean_bahan'])\n",
    "sequences = tokenizer.texts_to_sequences(df['clean_bahan'])\n",
    "X = pad_sequences(sequences, maxlen=100)  # padding sequences to same length\n",
    "\n",
    "# Encode label judul menjadi angka\n",
    "label_encoder = LabelEncoder()\n",
    "y = label_encoder.fit_transform(df['judul'])"
   ]
  },
  {
   "cell_type": "code",
   "execution_count": 6,
   "id": "6763f354",
   "metadata": {},
   "outputs": [],
   "source": [
    "from sklearn.model_selection import train_test_split\n",
    "\n",
    "X_train, X_test, y_train, y_test = train_test_split(X, y, test_size=0.2, random_state=42)"
   ]
  },
  {
   "cell_type": "code",
   "execution_count": 7,
   "id": "98fbde5a",
   "metadata": {},
   "outputs": [
    {
     "name": "stdout",
     "output_type": "stream",
     "text": [
      "WARNING:tensorflow:From c:\\laragon\\bin\\python\\python-3.10\\lib\\site-packages\\keras\\src\\backend.py:873: The name tf.get_default_graph is deprecated. Please use tf.compat.v1.get_default_graph instead.\n",
      "\n",
      "WARNING:tensorflow:From c:\\laragon\\bin\\python\\python-3.10\\lib\\site-packages\\keras\\src\\optimizers\\__init__.py:309: The name tf.train.Optimizer is deprecated. Please use tf.compat.v1.train.Optimizer instead.\n",
      "\n",
      "Model: \"sequential\"\n",
      "_________________________________________________________________\n",
      " Layer (type)                Output Shape              Param #   \n",
      "=================================================================\n",
      " embedding (Embedding)       (None, 100, 128)          2907904   \n",
      "                                                                 \n",
      " lstm (LSTM)                 (None, 128)               131584    \n",
      "                                                                 \n",
      " dense (Dense)               (None, 128)               16512     \n",
      "                                                                 \n",
      " dense_1 (Dense)             (None, 55992)             7222968   \n",
      "                                                                 \n",
      "=================================================================\n",
      "Total params: 10278968 (39.21 MB)\n",
      "Trainable params: 10278968 (39.21 MB)\n",
      "Non-trainable params: 0 (0.00 Byte)\n",
      "_________________________________________________________________\n"
     ]
    }
   ],
   "source": [
    "from tensorflow.keras.models import Sequential\n",
    "from tensorflow.keras.layers import Embedding, LSTM, Dense\n",
    "\n",
    "# Parameter\n",
    "vocab_size = len(tokenizer.word_index) + 1  # total kata unik\n",
    "maxlen = 100  # panjang input\n",
    "num_classes = len(label_encoder.classes_)  # jumlah kelas (judul)\n",
    "\n",
    "# Membangun model\n",
    "model = Sequential()\n",
    "model.add(Embedding(input_dim=vocab_size, output_dim=128, input_length=maxlen))\n",
    "model.add(LSTM(128, return_sequences=False))\n",
    "model.add(Dense(128, activation='relu'))\n",
    "model.add(Dense(num_classes, activation='softmax'))\n",
    "\n",
    "# Compile model\n",
    "model.compile(\n",
    "    loss='sparse_categorical_crossentropy',  # karena y bukan one-hot\n",
    "    optimizer='adam',\n",
    "    metrics=['accuracy']\n",
    ")\n",
    "\n",
    "model.summary()\n"
   ]
  },
  {
   "cell_type": "code",
   "execution_count": 10,
   "id": "b5b0dabf",
   "metadata": {},
   "outputs": [
    {
     "name": "stdout",
     "output_type": "stream",
     "text": [
      "Epoch 1/30\n",
      "90/90 [==============================] - 41s 460ms/step - loss: 6.2406 - accuracy: 0.0148 - val_loss: 19.4245 - val_accuracy: 0.0024\n",
      "Epoch 2/30\n",
      "90/90 [==============================] - 52s 579ms/step - loss: 5.1503 - accuracy: 0.0437 - val_loss: 21.3278 - val_accuracy: 0.0018\n",
      "Epoch 3/30\n",
      "90/90 [==============================] - 53s 594ms/step - loss: 4.2773 - accuracy: 0.1036 - val_loss: 22.5815 - val_accuracy: 0.0026\n",
      "Epoch 4/30\n",
      "90/90 [==============================] - 54s 600ms/step - loss: 3.5732 - accuracy: 0.1868 - val_loss: 23.3664 - val_accuracy: 0.0022\n",
      "Epoch 5/30\n",
      "90/90 [==============================] - 53s 588ms/step - loss: 2.9846 - accuracy: 0.2919 - val_loss: 24.1835 - val_accuracy: 0.0010\n",
      "Epoch 6/30\n",
      "90/90 [==============================] - 56s 619ms/step - loss: 2.4970 - accuracy: 0.3960 - val_loss: 24.8274 - val_accuracy: 0.0016\n",
      "Epoch 7/30\n",
      "90/90 [==============================] - 53s 591ms/step - loss: 2.0852 - accuracy: 0.4982 - val_loss: 25.5326 - val_accuracy: 0.0024\n",
      "Epoch 8/30\n",
      "90/90 [==============================] - 53s 590ms/step - loss: 1.7358 - accuracy: 0.5861 - val_loss: 26.0484 - val_accuracy: 0.0024\n",
      "Epoch 9/30\n",
      "90/90 [==============================] - 54s 600ms/step - loss: 1.4256 - accuracy: 0.6705 - val_loss: 26.7163 - val_accuracy: 0.0024\n",
      "Epoch 10/30\n",
      "90/90 [==============================] - 75s 830ms/step - loss: 1.1799 - accuracy: 0.7352 - val_loss: 27.1387 - val_accuracy: 0.0022\n",
      "Epoch 11/30\n",
      "90/90 [==============================] - 92s 1s/step - loss: 0.9730 - accuracy: 0.7835 - val_loss: 27.7266 - val_accuracy: 0.0026\n",
      "Epoch 12/30\n",
      "90/90 [==============================] - 94s 1s/step - loss: 0.8003 - accuracy: 0.8259 - val_loss: 28.1926 - val_accuracy: 0.0022\n",
      "Epoch 13/30\n",
      "90/90 [==============================] - 89s 991ms/step - loss: 0.6589 - accuracy: 0.8599 - val_loss: 28.6336 - val_accuracy: 0.0030\n",
      "Epoch 14/30\n",
      "90/90 [==============================] - 89s 983ms/step - loss: 0.5432 - accuracy: 0.8859 - val_loss: 29.0507 - val_accuracy: 0.0026\n",
      "Epoch 15/30\n",
      "90/90 [==============================] - 91s 1s/step - loss: 0.4446 - accuracy: 0.9069 - val_loss: 29.3947 - val_accuracy: 0.0030\n",
      "Epoch 16/30\n",
      "90/90 [==============================] - 86s 949ms/step - loss: 0.3693 - accuracy: 0.9242 - val_loss: 29.8074 - val_accuracy: 0.0030\n",
      "Epoch 17/30\n",
      "90/90 [==============================] - 91s 1s/step - loss: 0.3074 - accuracy: 0.9379 - val_loss: 30.0598 - val_accuracy: 0.0030\n",
      "Epoch 18/30\n",
      "90/90 [==============================] - 90s 1000ms/step - loss: 0.2593 - accuracy: 0.9491 - val_loss: 30.1949 - val_accuracy: 0.0036\n",
      "Epoch 19/30\n",
      "90/90 [==============================] - 86s 957ms/step - loss: 0.2223 - accuracy: 0.9567 - val_loss: 30.8142 - val_accuracy: 0.0038\n",
      "Epoch 20/30\n",
      "90/90 [==============================] - 87s 963ms/step - loss: 0.1879 - accuracy: 0.9637 - val_loss: 30.9651 - val_accuracy: 0.0030\n",
      "Epoch 21/30\n",
      "90/90 [==============================] - 94s 1s/step - loss: 0.1632 - accuracy: 0.9683 - val_loss: 31.1901 - val_accuracy: 0.0042\n",
      "Epoch 22/30\n",
      "90/90 [==============================] - 91s 1s/step - loss: 0.1416 - accuracy: 0.9732 - val_loss: 31.4172 - val_accuracy: 0.0028\n",
      "Epoch 23/30\n",
      "90/90 [==============================] - 91s 1s/step - loss: 0.1234 - accuracy: 0.9774 - val_loss: 31.5538 - val_accuracy: 0.0038\n",
      "Epoch 24/30\n",
      "90/90 [==============================] - 63s 698ms/step - loss: 0.1075 - accuracy: 0.9805 - val_loss: 31.8205 - val_accuracy: 0.0038\n",
      "Epoch 25/30\n",
      "90/90 [==============================] - 65s 717ms/step - loss: 0.0966 - accuracy: 0.9817 - val_loss: 32.1162 - val_accuracy: 0.0040\n",
      "Epoch 26/30\n",
      "90/90 [==============================] - 72s 802ms/step - loss: 0.0892 - accuracy: 0.9830 - val_loss: 32.2543 - val_accuracy: 0.0034\n",
      "Epoch 27/30\n",
      "90/90 [==============================] - 54s 593ms/step - loss: 0.0779 - accuracy: 0.9858 - val_loss: 32.6082 - val_accuracy: 0.0040\n",
      "Epoch 28/30\n",
      "90/90 [==============================] - 54s 597ms/step - loss: 0.0724 - accuracy: 0.9861 - val_loss: 32.6834 - val_accuracy: 0.0038\n",
      "Epoch 29/30\n",
      "90/90 [==============================] - 54s 596ms/step - loss: 0.0665 - accuracy: 0.9872 - val_loss: 32.7977 - val_accuracy: 0.0042\n",
      "Epoch 30/30\n",
      "90/90 [==============================] - 53s 585ms/step - loss: 0.0621 - accuracy: 0.9884 - val_loss: 32.9156 - val_accuracy: 0.0040\n"
     ]
    }
   ],
   "source": [
    "# Latih model\n",
    "history = model.fit(\n",
    "    X_train,\n",
    "    y_train,\n",
    "    epochs=30,\n",
    "    batch_size=500,\n",
    "    validation_split=0.1\n",
    ")\n"
   ]
  },
  {
   "cell_type": "code",
   "execution_count": 11,
   "id": "efd82d53",
   "metadata": {},
   "outputs": [
    {
     "name": "stdout",
     "output_type": "stream",
     "text": [
      "389/389 [==============================] - 10s 26ms/step - loss: 32.9701 - accuracy: 0.0049\n",
      "Test Loss: 32.9701, Test Accuracy: 0.0049\n"
     ]
    }
   ],
   "source": [
    "# Evaluasi di test set\n",
    "loss, acc = model.evaluate(X_test, y_test)\n",
    "print(f\"Test Loss: {loss:.4f}, Test Accuracy: {acc:.4f}\")"
   ]
  }
 ],
 "metadata": {
  "kernelspec": {
   "display_name": "Python 3",
   "language": "python",
   "name": "python3"
  },
  "language_info": {
   "codemirror_mode": {
    "name": "ipython",
    "version": 3
   },
   "file_extension": ".py",
   "mimetype": "text/x-python",
   "name": "python",
   "nbconvert_exporter": "python",
   "pygments_lexer": "ipython3",
   "version": "3.10.6"
  }
 },
 "nbformat": 4,
 "nbformat_minor": 5
}
